{
 "cells": [
  {
   "cell_type": "code",
   "execution_count": null,
   "id": "de05fa78-e116-4b90-9dbb-8f52cf4da28a",
   "metadata": {},
   "outputs": [],
   "source": [
    "import sys\n",
    "sys.path.append('/path/to/src')\n",
    "\n",
    "import torch\n",
    "from tqdm import tqdm\n",
    "import time, os, json, pickle\n",
    "\n",
    "from src.train.util import *\n",
    "from src.models.unet import set_unet\n",
    "from src.models.diffusion import Diffusion\n",
    "from src.utils.aux import unscale_tensor\n",
    "\n",
    "from pprint import pprint"
   ]
  },
  {
   "cell_type": "markdown",
   "id": "f2857d67-38cf-4b7c-b193-3a2d8714c10b",
   "metadata": {},
   "source": [
    "# Load models"
   ]
  },
  {
   "cell_type": "code",
   "execution_count": null,
   "id": "c0c4db60-9869-4d3e-888a-ed6146cfbbfd",
   "metadata": {},
   "outputs": [],
   "source": [
    "fname = '//path/to/sampling/config.json'\n",
    "with open(fname, 'r') as f:\n",
    "    config = json.load(f)\n",
    "\n",
    "# Set single GPU\n",
    "device = \"cuda\" if torch.cuda.is_available() else \"cpu\""
   ]
  },
  {
   "cell_type": "code",
   "execution_count": null,
   "id": "30fcd155-1d81-4fea-880d-7514fd30f924",
   "metadata": {},
   "outputs": [],
   "source": [
    "# Set the UNet\n",
    "unet_self_cond = config['unet_config'].get('self_condition', False)\n",
    "unet = set_unet(config['unet_config'])\n",
    "unet = unet.to(device)\n",
    "\n",
    "\n",
    "# Set the AutoEncoder model\n",
    "flag_compile = False\n",
    "if 'vq' in config['autoencoder']['type']:\n",
    "    autoencoder, autoencoder_eager = prepare_vqmodel(config, device, flag_compile, 'autoencoder')\n",
    "    encoder_tanh = config['autoencoder'].get('encode_tanh_out', False)\n",
    "    vq_model = True\n",
    "elif 'vae' in config['autoencoder']['type']:\n",
    "    autoencoder, autoencoder_eager = prepare_vaemodel(config, device, flag_compile, config_key = 'autoencoder')\n",
    "    vq_model = False"
   ]
  },
  {
   "cell_type": "code",
   "execution_count": null,
   "id": "e4f4f4a0-4eab-4634-9d91-967b633fc695",
   "metadata": {},
   "outputs": [],
   "source": [
    "# Diffusion\n",
    "print('Setting the DDPM class')\n",
    "sampling_batch = config['sampling'].get('sampling_batch', 4)\n",
    "grid_rows = config['sampling'].get('grid_rows', 2)\n",
    "eta = config['sampling'].get('eta', 1.0)\n",
    "noise_dict = config['noise']\n",
    "timesteps = config['diffusion']['timesteps']\n",
    "ddim_skip = config['diffusion']['skip']\n",
    "loss_type = config['diffusion']['loss']\n",
    "diffusion = Diffusion(noise_dict, unet, timesteps,\n",
    "                 loss=loss_type,\n",
    "                 sample_every = ddim_skip,\n",
    "                 device=device)"
   ]
  },
  {
   "cell_type": "markdown",
   "id": "193d5da5-9dbe-44b5-91cf-1af3b1863a10",
   "metadata": {},
   "source": [
    "# Map code class actuall style"
   ]
  },
  {
   "cell_type": "markdown",
   "id": "b30882ca-c097-473b-a38e-af1dd16dad1e",
   "metadata": {},
   "source": [
    "This is not necessary step, but helps to know which class code means what."
   ]
  },
  {
   "cell_type": "code",
   "execution_count": null,
   "id": "c275090c-679f-4b4d-9b97-2cf12dd4371f",
   "metadata": {},
   "outputs": [],
   "source": [
    "from src.datasets.artbench import im_dataset\n",
    "from torchvision import utils\n",
    "import torchvision"
   ]
  },
  {
   "cell_type": "code",
   "execution_count": null,
   "id": "7ba5092e-c961-4560-b81b-66ed881caa2e",
   "metadata": {},
   "outputs": [],
   "source": [
    "t2img = torchvision.transforms.ToPILImage()\n",
    "\n",
    "image_size = config['dataset']['image_size']\n",
    "root = config['dataset']['location']\n",
    "img_resize = config['dataset']['img_resize']\n",
    "dataset = im_dataset(root, resize=img_resize, image_size=image_size, flip_prob=0)\n",
    "\n",
    "styles = {}\n",
    "for i, _name in enumerate(dataset.classes):\n",
    "    styles[i] = _name\n",
    "\n",
    "num_classes = len(dataset.classes)\n",
    "print(f'Num classes: {num_classes}')\n",
    "\n",
    "pprint(styles)"
   ]
  },
  {
   "cell_type": "markdown",
   "id": "14509e2e-9372-450c-9423-84a8097fda16",
   "metadata": {},
   "source": [
    "# Sample"
   ]
  },
  {
   "cell_type": "code",
   "execution_count": null,
   "id": "d3c95cf4-f518-4fc6-b347-b10ce9f3af86",
   "metadata": {},
   "outputs": [],
   "source": [
    "from src.utils.aux import save_grid_imgs"
   ]
  },
  {
   "cell_type": "code",
   "execution_count": null,
   "id": "6a157d81-7b85-4728-b8c2-abab36fa14f7",
   "metadata": {},
   "outputs": [],
   "source": [
    "# Sampling parameters\n",
    "nrow = 4 # will be used to generate image grid\n",
    "sampling_batch = 16 # How many images\n",
    "sampling_size = (64, 64) # Latens space size. Output will be multiplied by VAE scaling\n",
    "latent_ch = 4 # Latent space dimensionality\n",
    "\n",
    "# Generate a tuple with shape of sampled batch\n",
    "sampling_size = (sampling_batch, latent_ch, sampling_size[0], sampling_size[1])"
   ]
  },
  {
   "cell_type": "code",
   "execution_count": null,
   "id": "aa2b2962-e1fb-49d0-958e-3147c50a2ddc",
   "metadata": {},
   "outputs": [],
   "source": [
    "# Random styles\n",
    "rand_sample_lbls = torch.randint(low = 0, high = num_classes-1, size = (sampling_batch, )).to(device)\n",
    "for x in rand_sample_lbls:\n",
    "    print(f'{x.item()}: {styles[x.item()]}')"
   ]
  },
  {
   "cell_type": "code",
   "execution_count": null,
   "id": "c11a035b-acd7-4053-9df4-142322dcd3a7",
   "metadata": {},
   "outputs": [],
   "source": [
    "# Specific styles\n",
    "style_code = 6\n",
    "print(f'Style: {styles[style_code]}')\n",
    "det_style_lbls = style_code*torch.ones(size = (sampling_batch, ), dtype = int).to(device)\n",
    "style =  styles[style_code]"
   ]
  },
  {
   "cell_type": "code",
   "execution_count": null,
   "id": "c01ac783-0ad6-4d0a-b6ef-035fa2ed0c6b",
   "metadata": {},
   "outputs": [],
   "source": [
    "# Uncomment depending on what you are interested in\n",
    "\n",
    "sample_lbls = det_style_lbls\n",
    "#sample_lbls = rand_sample_lbls\n",
    "\n",
    "eta = 0.8\n",
    "with torch.cuda.amp.autocast(dtype=torch.bfloat16) and torch.no_grad():\n",
    "    samples = diffusion.p_sample(sampling_size,\n",
    "                                 x_self_cond=unet_self_cond,\n",
    "                                 classes=sample_lbls,\n",
    "                                 last=True, eta=eta)\n",
    "    Y = autoencoder.decode(samples.to(device)/autoencoder.scaling_factor)\n",
    "\n",
    "\n",
    "all_images = unscale_tensor(Y)\n",
    "grid_img = utils.make_grid(all_images.to('cpu'), nrow = nrow)\n",
    "\n",
    "# Display the grid\n",
    "t2img(grid_img)"
   ]
  },
  {
   "cell_type": "code",
   "execution_count": null,
   "id": "1b612447-7be8-403d-ba80-3793bf7d483e",
   "metadata": {},
   "outputs": [],
   "source": [
    "# Chane the filename as you like\n",
    "fname = 'sample.jpg'\n",
    "save_grid_imgs(all_images, 4, fname)"
   ]
  },
  {
   "cell_type": "code",
   "execution_count": null,
   "id": "29c0ee0d-b244-4dd0-8919-6731fc5856f6",
   "metadata": {},
   "outputs": [],
   "source": [
    "# empty cuda cache\n",
    "try:\n",
    "    del Y, samples, all_images\n",
    "except Exception as e:\n",
    "    print(e)\n",
    "torch.cuda.empty_cache()"
   ]
  },
  {
   "cell_type": "markdown",
   "id": "72c2ab36-489c-455b-b5af-897c3d992b11",
   "metadata": {},
   "source": [
    "### Many images"
   ]
  },
  {
   "cell_type": "code",
   "execution_count": null,
   "id": "5e038e6a-3ce3-4f2a-a386-fd98fb67bdfa",
   "metadata": {},
   "outputs": [],
   "source": [
    "sample_lbls = det_style_lbls\n",
    "#sample_lbls = rand_sample_lbls\n",
    "\n",
    "eta = 0.5\n",
    "images = []\n",
    "with torch.cuda.amp.autocast(dtype=torch.bfloat16) and torch.no_grad():\n",
    "    samples = diffusion.p_sample(sampling_size,\n",
    "                                 x_self_cond=unet_self_cond,\n",
    "                                 classes=sample_lbls,\n",
    "                                 last=False, eta=eta)\n",
    "    \n",
    "for sample in samples[0]:\n",
    "    Y = autoencoder.decode(sample.to(device)/autoencoder.scaling_factor)\n",
    "\n",
    "    all_images = unscale_tensor(Y)\n",
    "    grid_img = utils.make_grid(all_images.to('cpu'), nrow = nrow)\n",
    "    \n",
    "    images.append(t2img(grid_img))"
   ]
  },
  {
   "cell_type": "code",
   "execution_count": null,
   "id": "c0091fea-4ec5-4ad9-a637-7e97aa0f70a8",
   "metadata": {},
   "outputs": [],
   "source": [
    "import imageio\n",
    "from PIL import Image"
   ]
  },
  {
   "cell_type": "code",
   "execution_count": null,
   "id": "65df85c2-ee96-4020-826c-782f3bebae22",
   "metadata": {},
   "outputs": [],
   "source": [
    "# Save to GIF using imageio (has to be installed)\n",
    "imageio.mimsave('sample.gif', images)"
   ]
  },
  {
   "cell_type": "code",
   "execution_count": null,
   "id": "96f3304e-e51f-493e-ba8f-cf6dc1ec4683",
   "metadata": {},
   "outputs": [],
   "source": [
    "# Save using PIL\n",
    "images[0].save(\"sample_pillow.gif\", save_all=True, append_images=images[1:], optimize=True, duration=40, loop=0)"
   ]
  },
  {
   "cell_type": "code",
   "execution_count": null,
   "id": "6c064619-3419-4424-bb36-da83ab71ac23",
   "metadata": {},
   "outputs": [],
   "source": [
    "# Another way to save the GIF\n",
    "\n",
    "x = 512\n",
    "y = 512\n",
    "q = 50 # Quality\n",
    "fp_out = 'sample_4x4_rand.gif'\n",
    "img, *imgs = [image.resize((x,y), Image.LANCZOS) for image in images] \n",
    "img.save(fp=fp_out, format='GIF', append_images=imgs,quality=q, \n",
    "         save_all=True, duration=40, loop=0, optimize=True)"
   ]
  }
 ],
 "metadata": {
  "kernelspec": {
   "display_name": "Python [conda env:pt2]",
   "language": "python",
   "name": "conda-env-pt2-py"
  },
  "language_info": {
   "codemirror_mode": {
    "name": "ipython",
    "version": 3
   },
   "file_extension": ".py",
   "mimetype": "text/x-python",
   "name": "python",
   "nbconvert_exporter": "python",
   "pygments_lexer": "ipython3",
   "version": "3.9.16"
  }
 },
 "nbformat": 4,
 "nbformat_minor": 5
}
